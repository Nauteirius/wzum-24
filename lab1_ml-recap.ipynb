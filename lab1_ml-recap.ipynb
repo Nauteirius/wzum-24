{
 "cells": [
  {
   "cell_type": "markdown",
   "metadata": {
    "pycharm": {
     "name": "#%% md\n"
    }
   },
   "source": [
    "# Lab1 - Introduction + Neural Networks + PyTorch recap"
   ]
  },
  {
   "cell_type": "markdown",
   "metadata": {
    "pycharm": {
     "name": "#%% md\n"
    }
   },
   "source": [
    "## Plan for today\n",
    "\n",
    "1. Get to know course rules, timetable, etc.\n",
    "2. Briefly recap our ML knowledge:\n",
    "    * implement basic logistic regression from scratch\n",
    "    * get (re)accustomed with PyTorch"
   ]
  },
  {
   "cell_type": "markdown",
   "metadata": {
    "pycharm": {
     "name": "#%% md\n"
    }
   },
   "source": [
    "## 1. Course logistics\n",
    "\n",
    "Let's go over [the course page](https://github.com/gmum/wzum-24) on GitHub."
   ]
  },
  {
   "cell_type": "markdown",
   "metadata": {
    "pycharm": {
     "name": "#%% md\n"
    }
   },
   "source": [
    "## 2. Logistic regression from scratch\n",
    "\n",
    "We will tackle the problem of **classification**, i.e. prediction of a discrete value (class):\n",
    "\n",
    "$$\n",
    "f(x) = y, y \\in \\{0...N\\}\n",
    "$$\n",
    "\n",
    "The most basic variant of this is **binary** classification: $y \\in \\{0, 1\\}$. We will focus on that for the time being.\n",
    "\n",
    "**Logistic regression** is a model which predicts the probability that a given example belongs to the class 1:\n",
    "\n",
    "$$\n",
    "g(x) = \\hat{p}(y = 1 | x )\n",
    "$$\n",
    "\n",
    "**Questions for you:**\n",
    "* what is the probability that $y=0$?\n",
    "* in the multi-class case, how many outputs will the model have?\n",
    "* what conditions must the model outputs satisfy?\n",
    "\n",
    "As an example, we will work with a breast cancer prediction dataset."
   ]
  },
  {
   "cell_type": "code",
   "execution_count": 1,
   "metadata": {},
   "outputs": [],
   "source": [
    "%load_ext autoreload\n",
    "%autoreload 2"
   ]
  },
  {
   "cell_type": "code",
   "execution_count": 2,
   "metadata": {
    "collapsed": false,
    "jupyter": {
     "outputs_hidden": false
    },
    "pycharm": {
     "name": "#%%\n"
    }
   },
   "outputs": [],
   "source": [
    "from typing import Tuple\n",
    "import numpy as np\n",
    "import matplotlib.pyplot as plt\n",
    "from sklearn.datasets import load_breast_cancer\n",
    "from sklearn.metrics import accuracy_score, precision_score, recall_score\n",
    "from sklearn.model_selection import train_test_split\n",
    "import torch\n",
    "from sklearn.preprocessing import StandardScaler\n",
    "import matplotlib.pyplot as plt\n"
   ]
  },
  {
   "cell_type": "code",
   "execution_count": 3,
   "metadata": {
    "collapsed": false,
    "jupyter": {
     "outputs_hidden": false
    },
    "pycharm": {
     "is_executing": true,
     "name": "#%%\n"
    }
   },
   "outputs": [
    {
     "name": "stdout",
     "output_type": "stream",
     "text": [
      ".. _breast_cancer_dataset:\n",
      "\n",
      "Breast cancer wisconsin (diagnostic) dataset\n",
      "--------------------------------------------\n",
      "\n",
      "**Data Set Characteristics:**\n",
      "\n",
      "    :Number of Instances: 569\n",
      "\n",
      "    :Number of Attributes: 30 numeric, predictive attributes and the class\n",
      "\n",
      "    :Attribute Information:\n",
      "        - radius (mean of distances from center to points on the perimeter)\n",
      "        - texture (standard deviation of gray-scale values)\n",
      "        - perimeter\n",
      "        - area\n",
      "        - smoothness (local variation in radius lengths)\n",
      "        - compactness (perimeter^2 / area - 1.0)\n",
      "        - concavity (severity of concave portions of the contour)\n",
      "        - concave points (number of concave portions of the contour)\n",
      "        - symmetry\n",
      "        - fractal dimension (\"coastline approximation\" - 1)\n",
      "\n",
      "        The mean, standard error, and \"worst\" or largest (mean of the three\n",
      "        worst/largest values) of these features were computed for each image,\n",
      "        resulting in 30 features.  For instance, field 0 is Mean Radius, field\n",
      "        10 is Radius SE, field 20 is Worst Radius.\n",
      "\n",
      "        - class:\n",
      "                - WDBC-Malignant\n",
      "                - WDBC-Benign\n",
      "\n",
      "    :Summary Statistics:\n",
      "\n",
      "    ===================================== ====== ======\n",
      "                                           Min    Max\n",
      "    ===================================== ====== ======\n",
      "    radius (mean):                        6.981  28.11\n",
      "    texture (mean):                       9.71   39.28\n",
      "    perimeter (mean):                     43.79  188.5\n",
      "    area (mean):                          143.5  2501.0\n",
      "    smoothness (mean):                    0.053  0.163\n",
      "    compactness (mean):                   0.019  0.345\n",
      "    concavity (mean):                     0.0    0.427\n",
      "    concave points (mean):                0.0    0.201\n",
      "    symmetry (mean):                      0.106  0.304\n",
      "    fractal dimension (mean):             0.05   0.097\n",
      "    radius (standard error):              0.112  2.873\n",
      "    texture (standard error):             0.36   4.885\n",
      "    perimeter (standard error):           0.757  21.98\n",
      "    area (standard error):                6.802  542.2\n",
      "    smoothness (standard error):          0.002  0.031\n",
      "    compactness (standard error):         0.002  0.135\n",
      "    concavity (standard error):           0.0    0.396\n",
      "    concave points (standard error):      0.0    0.053\n",
      "    symmetry (standard error):            0.008  0.079\n",
      "    fractal dimension (standard error):   0.001  0.03\n",
      "    radius (worst):                       7.93   36.04\n",
      "    texture (worst):                      12.02  49.54\n",
      "    perimeter (worst):                    50.41  251.2\n",
      "    area (worst):                         185.2  4254.0\n",
      "    smoothness (worst):                   0.071  0.223\n",
      "    compactness (worst):                  0.027  1.058\n",
      "    concavity (worst):                    0.0    1.252\n",
      "    concave points (worst):               0.0    0.291\n",
      "    symmetry (worst):                     0.156  0.664\n",
      "    fractal dimension (worst):            0.055  0.208\n",
      "    ===================================== ====== ======\n",
      "\n",
      "    :Missing Attribute Values: None\n",
      "\n",
      "    :Class Distribution: 212 - Malignant, 357 - Benign\n",
      "\n",
      "    :Creator:  Dr. William H. Wolberg, W. Nick Street, Olvi L. Mangasarian\n",
      "\n",
      "    :Donor: Nick Street\n",
      "\n",
      "    :Date: November, 1995\n",
      "\n",
      "This is a copy of UCI ML Breast Cancer Wisconsin (Diagnostic) datasets.\n",
      "https://goo.gl/U2Uwz2\n",
      "\n",
      "Features are computed from a digitized image of a fine needle\n",
      "aspirate (FNA) of a breast mass.  They describe\n",
      "characteristics of the cell nuclei present in the image.\n",
      "\n",
      "Separating plane described above was obtained using\n",
      "Multisurface Method-Tree (MSM-T) [K. P. Bennett, \"Decision Tree\n",
      "Construction Via Linear Programming.\" Proceedings of the 4th\n",
      "Midwest Artificial Intelligence and Cognitive Science Society,\n",
      "pp. 97-101, 1992], a classification method which uses linear\n",
      "programming to construct a decision tree.  Relevant features\n",
      "were selected using an exhaustive search in the space of 1-4\n",
      "features and 1-3 separating planes.\n",
      "\n",
      "The actual linear program used to obtain the separating plane\n",
      "in the 3-dimensional space is that described in:\n",
      "[K. P. Bennett and O. L. Mangasarian: \"Robust Linear\n",
      "Programming Discrimination of Two Linearly Inseparable Sets\",\n",
      "Optimization Methods and Software 1, 1992, 23-34].\n",
      "\n",
      "This database is also available through the UW CS ftp server:\n",
      "\n",
      "ftp ftp.cs.wisc.edu\n",
      "cd math-prog/cpo-dataset/machine-learn/WDBC/\n",
      "\n",
      "|details-start|\n",
      "**References**\n",
      "|details-split|\n",
      "\n",
      "- W.N. Street, W.H. Wolberg and O.L. Mangasarian. Nuclear feature extraction \n",
      "  for breast tumor diagnosis. IS&T/SPIE 1993 International Symposium on \n",
      "  Electronic Imaging: Science and Technology, volume 1905, pages 861-870,\n",
      "  San Jose, CA, 1993.\n",
      "- O.L. Mangasarian, W.N. Street and W.H. Wolberg. Breast cancer diagnosis and \n",
      "  prognosis via linear programming. Operations Research, 43(4), pages 570-577, \n",
      "  July-August 1995.\n",
      "- W.H. Wolberg, W.N. Street, and O.L. Mangasarian. Machine learning techniques\n",
      "  to diagnose breast cancer from fine-needle aspirates. Cancer Letters 77 (1994) \n",
      "  163-171.\n",
      "\n",
      "|details-end|\n"
     ]
    }
   ],
   "source": [
    "print(load_breast_cancer().DESCR)"
   ]
  },
  {
   "cell_type": "code",
   "execution_count": 4,
   "metadata": {
    "collapsed": false,
    "jupyter": {
     "outputs_hidden": false
    },
    "pycharm": {
     "name": "#%%\n"
    }
   },
   "outputs": [
    {
     "name": "stdout",
     "output_type": "stream",
     "text": [
      "array shapes [(512, 30), (57, 30), (512,), (57,)]\n",
      "y values [0 1] [0 1]\n"
     ]
    }
   ],
   "source": [
    "np.random.seed(0)\n",
    "X, y = load_breast_cancer(return_X_y=True)\n",
    "X_train, X_val, y_train, y_val= train_test_split(X, y, train_size=0.9)\n",
    "\n",
    "scaler = StandardScaler()\n",
    "X_train = scaler.fit_transform(X_train)\n",
    "X_val = scaler.transform(X_val)\n",
    "\n",
    "\n",
    "print(\"array shapes\", [t.shape for t in [X_train, X_val, y_train, y_val]])\n",
    "print(\"y values\", np.unique(y_train), np.unique(y_val) )"
   ]
  },
  {
   "cell_type": "markdown",
   "metadata": {},
   "source": [
    "\n",
    "### Linear vs logistic regression\n",
    "\n",
    "We need to transform a vector of 30 features into a value $\\in (0,1)$. Can we use linear regression for that?\n",
    "\n",
    "![classification_regression](https://raw.githubusercontent.com/aghbit/BIT_AI/master/3_logistic_regression/img/clas_reg.png)\n",
    "\n",
    "Recall that in linear regression $f(x) \\in \\mathbb{R} $ is defined as:\n",
    "$$\n",
    "f(x) = w^T x + b\n",
    "$$\n",
    "\n",
    "Where $w, b$ are trainable parameters.\n",
    "\n",
    "In logistic regression, we will need to squash the output, so that $f(x) \\in [0,1]$. A convenient way to do this is the **sigmoid** function:\n",
    "\n",
    "$$\\sigma(x) = \\frac{1}{1+e^{-x}}$$"
   ]
  },
  {
   "cell_type": "code",
   "execution_count": 5,
   "metadata": {
    "pycharm": {
     "name": "#%%\n"
    }
   },
   "outputs": [
    {
     "name": "stdout",
     "output_type": "stream",
     "text": [
      "sigmoid(-inf) = 0.0\n",
      "sigmoid(0) = 0.5\n",
      "sigmoid(1) = 0.7310585786300049\n",
      "sigmoid(inf) = 1.0\n"
     ]
    },
    {
     "data": {
      "image/png": "[encoded data removed]",
      "text/plain": [
       "<Figure size 432x288 with 1 Axes>"
      ]
     },
     "metadata": {
      "needs_background": "light"
     },
     "output_type": "display_data"
    }
   ],
   "source": [
    "def sigmoid(x):\n",
    "    return 1 / (1 + np.exp(-x))\n",
    "\n",
    "for x in [\n",
    "   -np.inf,\n",
    "    0,\n",
    "    1,\n",
    "    np.inf\n",
    "]:\n",
    "    print(f\"sigmoid({x}) = {sigmoid(x)}\")\n",
    "\n",
    "x = np.linspace(-10, 10)\n",
    "\n",
    "plt.plot(x, sigmoid(x))\n",
    "plt.grid(True)\n",
    "plt.show()"
   ]
  },
  {
   "cell_type": "markdown",
   "metadata": {
    "pycharm": {
     "name": "#%% md\n"
    }
   },
   "source": [
    "To sum it up, in case of binary classification:\n",
    "$$\n",
    "\\hat{p}(y=1 | x) = \\sigma(w^Tx + b)\n",
    "$$\n",
    "\n",
    "What about the loss function which can train such a model?\n",
    "\n",
    "We'll use a logarithmic loss function which quite nicely captures an intuition, that we want the predictions datapoints which should be predicted as $0$ as close to $0$ as possible, and, analogically, predictions which should be $1$, as close to $1$ as possible:\n",
    "\n",
    "$$ L = \\frac{-1}{n}\\Big(\\sum_{i=0}^n y^{(i)}\\log{f(x^{(i)})} + (1-y^{(i)})\\log{(1-f(x^{(i)}))} \\Big)$$\n",
    "\n",
    "This function is called **Binary Cross-Entropy**"
   ]
  },
  {
   "cell_type": "code",
   "execution_count": 6,
   "metadata": {
    "collapsed": false,
    "jupyter": {
     "outputs_hidden": false
    },
    "pycharm": {
     "name": "#%%\n"
    }
   },
   "outputs": [
    {
     "data": {
      "image/png": "[encoded data removed]",
      "text/plain": [
       "<Figure size 432x288 with 1 Axes>"
      ]
     },
     "metadata": {
      "needs_background": "light"
     },
     "output_type": "display_data"
    }
   ],
   "source": [
    "x = np.linspace(1e-6, 1 - (1e-6), 1000)\n",
    "\n",
    "plt.plot(x, -np.log(1 - x), label=\"loss when y = 0\")\n",
    "plt.plot(x, -np.log(x), label=\"loss when y = 1\")\n",
    "plt.legend()\n",
    "plt.show()"
   ]
  },
  {
   "cell_type": "markdown",
   "metadata": {
    "pycharm": {
     "name": "#%% md\n"
    }
   },
   "source": [
    "### Task for you: implement the binary cross-entropy function."
   ]
  },
  {
   "cell_type": "code",
   "execution_count": 10,
   "metadata": {
    "collapsed": false,
    "jupyter": {
     "outputs_hidden": false
    },
    "pycharm": {
     "name": "#%%\n"
    }
   },
   "outputs": [],
   "source": [
    "def binary_cross_entropy(x, y, w, b) -> float:\n",
    "    \"\"\"\n",
    "    All arguments are numpy arrays with shapes:\n",
    "        x: [N, F]\n",
    "        y: [N]\n",
    "        w: [F, 1]\n",
    "        b: [1]\n",
    "\n",
    "    Returns:\n",
    "        The value of binary cross-entropy (a single number).\n",
    "    \"\"\"\n",
    "    #30 in features\n",
    "    z = np.dot(x,w) + b\n",
    "    fx=sigmoid(z)\n",
    "    print(f'fx.shape: {fx.shape}, y.shape: {y.shape}')\n",
    "    L = -1/y.size*np.sum(np.copy(y)*np.log(fx) + (1-np.copy(y))*(1-fx))\n",
    "    return L"
   ]
  },
  {
   "cell_type": "markdown",
   "metadata": {
    "pycharm": {
     "name": "#%% md\n"
    }
   },
   "source": [
    "In order to train the parameters $w, b$ of our model, we need to calculate the gradients of loss with regard to those parameters:\n",
    "\n",
    "$$ \\frac{\\partial L}{\\partial w} \\text{ and } \\frac{\\partial L}{\\partial b} $$\n"
   ]
  },
  {
   "cell_type": "markdown",
   "metadata": {
    "pycharm": {
     "name": "#%% md\n"
    }
   },
   "source": [
    "### Task for you: implement the function which calculates $\\frac{\\partial L}{\\partial w}$ and $\\frac{\\partial L}{\\partial b}$:"
   ]
  },
  {
   "cell_type": "code",
   "execution_count": 12,
   "metadata": {
    "collapsed": false,
    "jupyter": {
     "outputs_hidden": false
    },
    "pycharm": {
     "name": "#%%\n"
    }
   },
   "outputs": [],
   "source": [
    "def calculate_gradients(x, y, w, b) -> Tuple[np.ndarray, np.ndarray]:\n",
    "    \"\"\"\n",
    "    All arguments are numpy arrays with shapes:\n",
    "        x: [N, F]\n",
    "        y: [N]\n",
    "        w: [F, 1]\n",
    "        b: [1]\n",
    "\n",
    "    Returns:\n",
    "        The gradients of loss L with respect to `w` and `b`. Their shapes should be identical to the shapes of `w` and `b`, respectively.\n",
    "    \"\"\"\n",
    "    a=(x/(np.exp(b+np.dot(x,w))+1))\n",
    "    b=(1/(np.exp(b+np.dot(x,w))+1) )\n",
    "    return (a,b)"
   ]
  },
  {
   "cell_type": "code",
   "execution_count": null,
   "metadata": {},
   "outputs": [],
   "source": []
  },
  {
   "cell_type": "markdown",
   "metadata": {
    "pycharm": {
     "name": "#%% md\n"
    }
   },
   "source": [
    "With the gradient calculation implemented, we should be able to train our model with the **Gradient Descent** method.\n",
    "\n",
    "With a good choice of learning rate, you should be able to achieve around 90% validation accuracy."
   ]
  },
  {
   "cell_type": "code",
   "execution_count": 26,
   "metadata": {
    "collapsed": false,
    "jupyter": {
     "outputs_hidden": false
    },
    "pycharm": {
     "name": "#%%\n"
    }
   },
   "outputs": [
    {
     "ename": "ValueError",
     "evalue": "shapes (1000,) and (30,1) not aligned: 1000 (dim 0) != 30 (dim 0)",
     "output_type": "error",
     "traceback": [
      "\u001b[1;31m---------------------------------------------------------------------------\u001b[0m",
      "\u001b[1;31mValueError\u001b[0m                                Traceback (most recent call last)",
      "Input \u001b[1;32mIn [26]\u001b[0m, in \u001b[0;36m<cell line: 10>\u001b[1;34m()\u001b[0m\n\u001b[0;32m      8\u001b[0m history \u001b[38;5;241m=\u001b[39m []\n\u001b[0;32m     10\u001b[0m \u001b[38;5;28;01mfor\u001b[39;00m epoch \u001b[38;5;129;01min\u001b[39;00m \u001b[38;5;28mrange\u001b[39m(\u001b[38;5;241m100\u001b[39m):\n\u001b[1;32m---> 12\u001b[0m     y_pred_train \u001b[38;5;241m=\u001b[39m sigmoid(\u001b[43mnp\u001b[49m\u001b[38;5;241;43m.\u001b[39;49m\u001b[43mdot\u001b[49m\u001b[43m(\u001b[49m\u001b[43mx\u001b[49m\u001b[43m,\u001b[49m\u001b[43mw\u001b[49m\u001b[43m)\u001b[49m \u001b[38;5;241m+\u001b[39m b) \u001b[38;5;66;03m# calculate predictions based on x, w, and b (don't forget sigmoid!)\u001b[39;00m\n\u001b[0;32m     13\u001b[0m     y_pred_train \u001b[38;5;241m=\u001b[39m (y_pred_train \u001b[38;5;241m>\u001b[39m \u001b[38;5;241m0.5\u001b[39m)\u001b[38;5;241m.\u001b[39mastype(\u001b[38;5;28mint\u001b[39m)\n\u001b[0;32m     14\u001b[0m     train_accuracy \u001b[38;5;241m=\u001b[39m (y_pred_train\u001b[38;5;241m.\u001b[39mreshape(\u001b[38;5;241m-\u001b[39m\u001b[38;5;241m1\u001b[39m) \u001b[38;5;241m==\u001b[39m y_train)\u001b[38;5;241m.\u001b[39mmean()\n",
      "File \u001b[1;32m<__array_function__ internals>:180\u001b[0m, in \u001b[0;36mdot\u001b[1;34m(*args, **kwargs)\u001b[0m\n",
      "\u001b[1;31mValueError\u001b[0m: shapes (1000,) and (30,1) not aligned: 1000 (dim 0) != 30 (dim 0)"
     ]
    }
   ],
   "source": [
    "w = np.random.randn(30, 1) * 0.01\n",
    "b = np.random.randn(1)* 0.01\n",
    "# how should we initialize w and b?\n",
    "\n",
    "lr = 1e-1\n",
    "# how big should be the learning rate?\n",
    "\n",
    "history = []\n",
    "\n",
    "for epoch in range(100):\n",
    "    \n",
    "    y_pred_train = sigmoid(np.dot(x,w) + b) # calculate predictions based on x, w, and b (don't forget sigmoid!)\n",
    "    y_pred_train = (y_pred_train > 0.5).astype(int)\n",
    "    train_accuracy = (y_pred_train.reshape(-1) == y_train).mean()\n",
    "    \n",
    "    y_pred_val = sigmoid(X_val @ w + b) # calculate predictions based on x, w, and b (don't forget sigmoid!)\n",
    "    y_pred_val = (y_pred_val > 0.5).astype(int)\n",
    "    val_accuracy = (y_pred_val.reshape(-1) == y_val).mean()\n",
    "    \n",
    "    l_train = binary_cross_entropy(X_train, y_train, w=w, b=b)\n",
    "    dw, db = calculate_gradients(X_train, y_train, w=w, b=b)\n",
    "\n",
    "    w = w - lr * dw.T # assign new value of w based on gradient dw\n",
    "    b = b - lr * db.T # assign new value of b based on gradient db\n",
    "    \n",
    "    elem = dict(epoch=epoch, loss=l_train, train_accuracy=train_accuracy, val_accuracy=val_accuracy)\n",
    "    history.append(elem)\n",
    "\n",
    "\n",
    "\n",
    "plt.plot([h[\"epoch\"] for h in history], [h[\"loss\"] for h in history], label=\"loss\")\n",
    "plt.legend()\n",
    "plt.show()\n",
    "\n",
    "plt.plot([h[\"epoch\"] for h in history], [h[\"train_accuracy\"] for h in history], label=\"train acc\")\n",
    "plt.plot([h[\"epoch\"] for h in history], [h[\"val_accuracy\"] for h in history], label=\"val acc\")\n",
    "plt.legend()\n",
    "plt.show()"
   ]
  },
  {
   "cell_type": "markdown",
   "metadata": {
    "pycharm": {
     "name": "#%% md\n"
    }
   },
   "source": [
    "## 3. Logistic regression with PyTorch automatic differentiation / loss / optimization tools"
   ]
  },
  {
   "cell_type": "code",
   "execution_count": null,
   "metadata": {},
   "outputs": [],
   "source": [
    "from torch.optim import SGD\n",
    "from torch import nn\n",
    "import torch"
   ]
  },
  {
   "cell_type": "markdown",
   "metadata": {},
   "source": [
    "### Task for you: initialize a logistic regression PyTorch model and train it\n",
    "\n",
    "You should achieve around 90% validation accuracy.\n",
    "\n",
    "**Hint: if you think you did everything right, but your model can't learn, check whether the dimensions of the tensors throughout the training are correct.**"
   ]
  },
  {
   "cell_type": "code",
   "execution_count": null,
   "metadata": {
    "collapsed": false,
    "jupyter": {
     "outputs_hidden": false
    },
    "pycharm": {
     "name": "#%%\n"
    }
   },
   "outputs": [],
   "source": [
    "model = nn.Sequential(\n",
    "    # we need a sequence of two pytorch layers for a basic logistic regression model - which ones?\n",
    ")\n",
    "opt = SGD(model.parameters(), lr=1e-1)\n",
    "loss_fn = nn.BCELoss()\n",
    "\n",
    "print({\n",
    "    name: p.shape\n",
    "    for (name, p) in model.named_parameters()\n",
    "})"
   ]
  },
  {
   "cell_type": "code",
   "execution_count": null,
   "metadata": {
    "collapsed": false,
    "jupyter": {
     "outputs_hidden": false
    },
    "pycharm": {
     "name": "#%%\n"
    }
   },
   "outputs": [],
   "source": [
    "history = []\n",
    "\n",
    "for epoch in range(100):\n",
    "    opt.zero_grad()\n",
    "    \n",
    "    ### YOUR CODE HERE ###\n",
    "    y_pred_train = ... # make predictions for train set\n",
    "    y_pred_val = ... # make_predictions for val set\n",
    "    \n",
    "    # calculate loss\n",
    "    l_train = ...\n",
    "    # calculate gradients with respect to l_train\n",
    "    \n",
    "    # perform the optimization step with the optimizer\n",
    "    \n",
    "    #######################\n",
    "    \n",
    "    train_accuracy = ((y_pred_train.detach().numpy() > 0.5) == y_train).mean()\n",
    "    val_accuracy = ((y_pred_val.detach().numpy() > 0.5) == y_val).mean()\n",
    "\n",
    "    elem = dict(epoch=epoch, loss=l_train.item(), train_accuracy=train_accuracy, val_accuracy=val_accuracy)\n",
    "    history.append(elem)\n",
    "    \n",
    "\n",
    "\n",
    "    \n",
    "plt.plot([h[\"epoch\"] for h in history], [h[\"loss\"] for h in history], label=\"loss\")\n",
    "plt.legend()\n",
    "plt.show()\n",
    "\n",
    "plt.plot([h[\"epoch\"] for h in history], [h[\"train_accuracy\"] for h in history], label=\"train acc\")\n",
    "plt.plot([h[\"epoch\"] for h in history], [h[\"val_accuracy\"] for h in history], label=\"val acc\")\n",
    "plt.legend()\n",
    "plt.show()"
   ]
  },
  {
   "cell_type": "markdown",
   "metadata": {
    "pycharm": {
     "name": "#%% md\n"
    }
   },
   "source": [
    "## 4. FashionMNIST: a bigger task\n",
    "\n",
    "Let's now train a neural net on a more challenging, multi-label FashionMNIST task."
   ]
  },
  {
   "cell_type": "code",
   "execution_count": null,
   "metadata": {
    "collapsed": false,
    "jupyter": {
     "outputs_hidden": false
    },
    "pycharm": {
     "name": "#%%\n"
    }
   },
   "outputs": [],
   "source": [
    "from torchvision.datasets import FashionMNIST\n",
    "from torchvision import transforms as tv\n",
    "from torch.utils.data import DataLoader\n",
    "from sklearn.metrics import accuracy_score"
   ]
  },
  {
   "cell_type": "markdown",
   "metadata": {},
   "source": [
    "### Task: load the dataset and visualize some examples along with their classes\n",
    "* what is the shape of a single example from the dataset?"
   ]
  },
  {
   "cell_type": "code",
   "execution_count": null,
   "metadata": {},
   "outputs": [],
   "source": [
    "ds = FashionMNIST('./data', train=True, target_transform=None, download=True, transform=tv.ToTensor()) # transform the data from PIL image to a tensor\n",
    "ds_test = FashionMNIST('./data', train=False, target_transform=None, download=True, transform=tv.ToTensor()) # transform the data from PIL image to a tensor"
   ]
  },
  {
   "cell_type": "code",
   "execution_count": null,
   "metadata": {},
   "outputs": [],
   "source": [
    "# visualize 10 examples from the dataset, along with their class numbers"
   ]
  },
  {
   "cell_type": "code",
   "execution_count": null,
   "metadata": {},
   "outputs": [],
   "source": [
    "batch_size=64\n",
    "\n",
    "train_dl = DataLoader(ds, batch_size, shuffle=True)\n",
    "valid_dl = DataLoader(ds_test, batch_size, shuffle=True)"
   ]
  },
  {
   "cell_type": "markdown",
   "metadata": {},
   "source": [
    "### Task: implement and train a neural network with two linear layers and ReLU activation between them. \n",
    "\n",
    "You should achieve at least 80% validation accuracy."
   ]
  },
  {
   "cell_type": "code",
   "execution_count": null,
   "metadata": {},
   "outputs": [],
   "source": [
    "class FashionNN(nn.Module):\n",
    "    def __init__(self):\n",
    "        super().__init__()\n",
    "        \n",
    "        # initialize the layers of the network\n",
    "        # what is the size of the input?\n",
    "        # what is the output size?\n",
    "        \n",
    "    def forward(self, x):\n",
    "        # process x through:\n",
    "        # 1) first layer\n",
    "        # 2) relu activation\n",
    "        # 3) second layer"
   ]
  },
  {
   "cell_type": "code",
   "execution_count": null,
   "metadata": {},
   "outputs": [],
   "source": [
    "net = FashionNN() # actually initialize the net\n",
    "loss_fn = ... # what loss do we use for multilabel classification?\n",
    "opt = torch.optim.Adam(net.parameters()) "
   ]
  },
  {
   "cell_type": "code",
   "execution_count": null,
   "metadata": {},
   "outputs": [],
   "source": [
    "number_of_epochs = 10\n",
    "\n",
    "for i in range(number_of_epochs):\n",
    "    train_loss = 0\n",
    "    for iteration, (X_train, y_train) in enumerate(train_dl):\n",
    "        \n",
    "        # perform optimization on the train set and calculate the total train loss\n",
    "        ...\n",
    "        \n",
    "        \n",
    "    val_loss = 0\n",
    "    y_predicted = []\n",
    "    y_true = []\n",
    "\n",
    "    with torch.no_grad():\n",
    "        for iteration, (X_val, y_val) in enumerate(valid_dl):\n",
    "            # perform predictions on the validation set and gather them to calculate accuracy\n",
    "            \n",
    "            y_pred = net(X_val)\n",
    "            loss = loss_fn(y_pred, y_val)\n",
    "            val_loss += loss.item()\n",
    "            y_pred = y_pred.argmax(dim=1)\n",
    "            y_true.extend(y_val.numpy())\n",
    "            y_predicted.extend(y_pred.numpy())\n",
    "    \n",
    "            \n",
    "    val_acc = accuracy_score(y_true, y_predicted)\n",
    "    print(f'#Epoch: {i}, train loss: {train_loss}, val loss: {val_loss}, val_acc: {val_acc}')\n",
    "    "
   ]
  }
 ],
 "metadata": {
  "kernelspec": {
   "display_name": "venv",
   "language": "python",
   "name": "python3"
  },
  "language_info": {
   "codemirror_mode": {
    "name": "ipython",
    "version": 3
   },
   "file_extension": ".py",
   "mimetype": "text/x-python",
   "name": "python",
   "nbconvert_exporter": "python",
   "pygments_lexer": "ipython3",
   "version": "3.9.0"
  }
 },
 "nbformat": 4,
 "nbformat_minor": 4
}
